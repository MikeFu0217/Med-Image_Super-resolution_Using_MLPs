{
 "cells": [
  {
   "cell_type": "code",
   "execution_count": 1,
   "id": "initial_id",
   "metadata": {
    "collapsed": true,
    "ExecuteTime": {
     "end_time": "2024-05-22T02:31:07.439205Z",
     "start_time": "2024-05-22T02:31:05.753459500Z"
    }
   },
   "outputs": [],
   "source": [
    "import cv2\n",
    "import matplotlib.pyplot as plt\n",
    "from utils import criterion, dataloader\n",
    "import os\n",
    "import numpy as np\n",
    "import pandas as pd\n",
    "import torch"
   ]
  },
  {
   "cell_type": "code",
   "outputs": [],
   "source": [
    "img_high_dir = \"./data/Carotid.bmp\"\n",
    "img_high = plt.imread(img_high_dir)\n",
    "\n",
    "Ls = [4, 5, 6, 7, 8, 9, 10, 11, 12]\n",
    "Sizes = [64, 128, 256, 512, 1024, 2048]\n",
    "GRID_MAE = pd.DataFrame(index=Ls, columns=Sizes)\n",
    "GRID_PSNR = pd.DataFrame(index=Ls, columns=Sizes)\n",
    "GRID_SSIM = pd.DataFrame(index=Ls, columns=Sizes)"
   ],
   "metadata": {
    "collapsed": false,
    "ExecuteTime": {
     "end_time": "2024-05-22T02:31:07.451943500Z",
     "start_time": "2024-05-22T02:31:07.441204900Z"
    }
   },
   "id": "fe1ea4769dcbc19d",
   "execution_count": 2
  },
  {
   "cell_type": "code",
   "outputs": [
    {
     "name": "stdout",
     "output_type": "stream",
     "text": [
      "L=12, Size=2048: mae=13.335778356481482, psnr=21.90700202401426, ssim=0.442123085380500275"
     ]
    }
   ],
   "source": [
    "for L in Ls:\n",
    "    for Size in Sizes:\n",
    "        model = torch.load(f\"./results/2024-04-29-14-L{L}-Size{Size}/best_model.pt\")\n",
    "        train_loader = dataloader.PixelLoader(img_high, N=4, batch_size=8, encoding=\"Sine\", sine_L=L)\n",
    "        img_fit = train_loader.fit_img(model)\n",
    "        GRID_MAE[Size][L] = criterion.mae(img_high, img_fit)\n",
    "        GRID_PSNR[Size][L] = criterion.psnr(img_high, img_fit)\n",
    "        GRID_SSIM[Size][L] = criterion.ssim(img_high, img_fit, multichannel=False)\n",
    "        print(\"\\rL={}, Size={}: mae={}, psnr={}, ssim={}\".format(L, Size, GRID_MAE[Size][L], GRID_PSNR[Size][L], GRID_SSIM[Size][L]), end=\"\")\n",
    "        GRID_MAE.to_csv(\"GRID_MSE.csv\")\n",
    "        GRID_PSNR.to_csv(\"GRID_PSNR.csv\")\n",
    "        GRID_SSIM.to_csv(\"GRID_SSIM.csv\")"
   ],
   "metadata": {
    "collapsed": false,
    "ExecuteTime": {
     "end_time": "2024-05-22T02:36:23.928700700Z",
     "start_time": "2024-05-22T02:32:51.924882100Z"
    }
   },
   "id": "3d1fcbe04b6eff5f",
   "execution_count": 5
  }
 ],
 "metadata": {
  "kernelspec": {
   "display_name": "Python 3",
   "language": "python",
   "name": "python3"
  },
  "language_info": {
   "codemirror_mode": {
    "name": "ipython",
    "version": 2
   },
   "file_extension": ".py",
   "mimetype": "text/x-python",
   "name": "python",
   "nbconvert_exporter": "python",
   "pygments_lexer": "ipython2",
   "version": "2.7.6"
  }
 },
 "nbformat": 4,
 "nbformat_minor": 5
}
