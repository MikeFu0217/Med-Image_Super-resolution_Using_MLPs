{
 "cells": [
  {
   "cell_type": "code",
   "execution_count": 1,
   "id": "initial_id",
   "metadata": {
    "collapsed": true,
    "ExecuteTime": {
     "end_time": "2024-05-21T02:43:27.113673800Z",
     "start_time": "2024-05-21T02:43:22.020206800Z"
    }
   },
   "outputs": [],
   "source": [
    "import numpy as np\n",
    "import matplotlib.pyplot as plt\n",
    "import torch\n",
    "import torch.nn as nn\n",
    "from utils import dataloader3D, criterion\n",
    "import os\n",
    "import cv2"
   ]
  },
  {
   "cell_type": "code",
   "outputs": [],
   "source": [
    "def readImg3D(img_dir):\n",
    "    img3D = []\n",
    "    img_names = os.listdir(img_dir)\n",
    "    img_names.sort(key=lambda x:int(x[:-4]))\n",
    "    for img_name in img_names:\n",
    "        img_path = os.path.join(img_dir, img_name)\n",
    "        img = plt.imread(img_path)\n",
    "        img = img if img.shape[-1] != 3 else img.mean(axis=2)\n",
    "        img3D.append(img)\n",
    "    return np.array(img3D)\n",
    "\n",
    "def saveImg3D(save_dir, name, img3D):\n",
    "    save_dir = os.path.join(save_dir, name)\n",
    "    os.makedirs(save_dir, exist_ok=True)\n",
    "    for i in range(img3D.shape[0]):\n",
    "        img = img3D[i, :, :]\n",
    "        img_save_path = os.path.join(save_dir, f\"{i}.jpg\")\n",
    "        plt.imsave(img_save_path, img, cmap=\"gray\")"
   ],
   "metadata": {
    "collapsed": false,
    "ExecuteTime": {
     "end_time": "2024-05-21T02:43:27.124034500Z",
     "start_time": "2024-05-21T02:43:27.113673800Z"
    }
   },
   "id": "c8a57c4031f126e6",
   "execution_count": 2
  },
  {
   "cell_type": "code",
   "outputs": [
    {
     "name": "stdout",
     "output_type": "stream",
     "text": [
      "(192, 432, 480)\n",
      "(48, 108, 120)\n"
     ]
    }
   ],
   "source": [
    "img_dir = \"./data/Carotid/high\"\n",
    "img = readImg3D(img_dir)\n",
    "train_loader = dataloader3D.PixelLoader3D(img, N=4, batch_size=512, encoding=\"Sine\", sine_L=6, shuffle=False)\n",
    "img_high = train_loader.get_high_img()\n",
    "img_low = train_loader.get_low_img()\n",
    "saveImg3D(\"./\", f\"img_high\", img_high)\n",
    "print(img_high.shape)\n",
    "print(img_low.shape)"
   ],
   "metadata": {
    "collapsed": false,
    "ExecuteTime": {
     "end_time": "2024-05-21T03:01:05.314350200Z",
     "start_time": "2024-05-21T03:00:54.265982Z"
    }
   },
   "id": "456c41f16f018f38",
   "execution_count": 20
  },
  {
   "cell_type": "markdown",
   "source": [
    "# interpolation to Original size"
   ],
   "metadata": {
    "collapsed": false
   },
   "id": "ef044c432f5c3ebd"
  },
  {
   "cell_type": "code",
   "outputs": [],
   "source": [
    "def interpolate_3D(img3D_low, newsize0, newsize1, newsize2, mode):\n",
    "    img3D_high = []\n",
    "    for i in range(img3D_low.shape[0]):\n",
    "        img = img3D_low[i, :, :]\n",
    "        img = np.round(cv2.resize(img, (newsize2, newsize1), interpolation=mode))\n",
    "        img3D_high.append(img)\n",
    "    img3D_low = np.array(img3D_high)\n",
    "    img3D_high = []\n",
    "    for i in range(img3D_low.shape[1]):\n",
    "        img = img3D_low[:, i, :]\n",
    "        img = np.round(cv2.resize(img, (newsize2, newsize0), interpolation=mode))\n",
    "        img3D_high.append(img)\n",
    "    img3D_high = np.array(img3D_high).transpose((1,0,2))\n",
    "    return img3D_high"
   ],
   "metadata": {
    "collapsed": false,
    "ExecuteTime": {
     "end_time": "2024-05-21T03:01:05.315349500Z",
     "start_time": "2024-05-21T03:01:05.306486Z"
    }
   },
   "id": "703f462c8dff08d0",
   "execution_count": 21
  },
  {
   "cell_type": "code",
   "outputs": [
    {
     "name": "stdout",
     "output_type": "stream",
     "text": [
      "nearest: mae:9.771450767988041, psnr:22.736692085170006, ssim:0.6308612749342646\n"
     ]
    }
   ],
   "source": [
    "img_nearest = interpolate_3D(img_low, img_high.shape[0], img_high.shape[1], img_high.shape[2], cv2.INTER_NEAREST)\n",
    "saveImg3D(\"./\", f\"img3D_nearest\", img_nearest)\n",
    "mae_nearest = criterion.mae(img_high, img_nearest)\n",
    "psnr_nearest = criterion.psnr(img_nearest, img_high)\n",
    "ssim_nearest = criterion.ssim(img_nearest, img_high, multichannel=True)\n",
    "print(f\"nearest: mae:{mae_nearest}, psnr:{psnr_nearest}, ssim:{ssim_nearest}\")"
   ],
   "metadata": {
    "collapsed": false,
    "ExecuteTime": {
     "end_time": "2024-05-21T03:01:10.232983200Z",
     "start_time": "2024-05-21T03:01:05.311349700Z"
    }
   },
   "id": "83c6ce70b04edd9a",
   "execution_count": 22
  },
  {
   "cell_type": "code",
   "outputs": [
    {
     "name": "stdout",
     "output_type": "stream",
     "text": [
      "bilinear: mae:8.600448847013245, psnr:24.446074249250586, ssim:0.7097223783727649\n"
     ]
    }
   ],
   "source": [
    "img_bilinear = interpolate_3D(img_low.astype(float), img_high.shape[0], img_high.shape[1], img_high.shape[2], cv2.INTER_LINEAR)\n",
    "saveImg3D(\"./\", f\"img3D_bilinear\", img_bilinear)\n",
    "mae_bilinear = criterion.mae(img_bilinear, img_high)\n",
    "psnr_bilinear = criterion.psnr(img_bilinear, img_high)\n",
    "ssim_bilinear = criterion.ssim(img_bilinear, img_high, multichannel=True)\n",
    "print(f\"bilinear: mae:{mae_bilinear}, psnr:{psnr_bilinear}, ssim:{ssim_bilinear}\")"
   ],
   "metadata": {
    "collapsed": false,
    "ExecuteTime": {
     "end_time": "2024-05-21T03:01:15.533551500Z",
     "start_time": "2024-05-21T03:01:10.236983400Z"
    }
   },
   "id": "7bc411d17000ef3c",
   "execution_count": 23
  },
  {
   "cell_type": "code",
   "outputs": [
    {
     "name": "stdout",
     "output_type": "stream",
     "text": [
      "bicubic: mae:9.191030193061986, psnr:23.932980457494764, ssim:0.6928764831166428\n"
     ]
    }
   ],
   "source": [
    "img_bicubic = interpolate_3D(img_low.astype(float), img_high.shape[0], img_high.shape[1], img_high.shape[2], cv2.INTER_CUBIC)\n",
    "saveImg3D(\"./\", f\"img3D_bicubic\", img_bicubic)\n",
    "mae_bicubic = criterion.mae(img_bicubic, img_high)\n",
    "psnr_bicubic = criterion.psnr(img_bicubic, img_high)\n",
    "ssim_bicubic = criterion.ssim(img_bicubic, img_high, multichannel=True)\n",
    "print(f\"bicubic: mae:{mae_bicubic}, psnr:{psnr_bicubic}, ssim:{ssim_bicubic}\")"
   ],
   "metadata": {
    "collapsed": false,
    "ExecuteTime": {
     "end_time": "2024-05-21T03:01:20.951255600Z",
     "start_time": "2024-05-21T03:01:15.525552300Z"
    }
   },
   "id": "2bab7a5679487d2e",
   "execution_count": 24
  },
  {
   "cell_type": "markdown",
   "source": [
    "# fit to (192, 432, 480)"
   ],
   "metadata": {
    "collapsed": false
   },
   "id": "368837b29f45b465"
  },
  {
   "cell_type": "code",
   "outputs": [
    {
     "data": {
      "text/plain": "(192, 432, 480)"
     },
     "execution_count": 26,
     "metadata": {},
     "output_type": "execute_result"
    }
   ],
   "source": [
    "img_high.shape"
   ],
   "metadata": {
    "collapsed": false,
    "ExecuteTime": {
     "end_time": "2024-05-21T03:01:45.508120500Z",
     "start_time": "2024-05-21T03:01:45.496593400Z"
    }
   },
   "id": "7e34dfdf74134d2d",
   "execution_count": 26
  },
  {
   "cell_type": "code",
   "outputs": [
    {
     "name": "stdout",
     "output_type": "stream",
     "text": [
      "fitting image 9/10"
     ]
    }
   ],
   "source": [
    "epoch = 200\n",
    "model = torch.load(f\"./results/3D results/Carotid/2024-05-11-19/saved_models/model_at_epoch{epoch}.pt\")\n",
    "model.eval()\n",
    "img_fit = train_loader.fit_img(model)\n",
    "saveImg3D(\"./\", f\"fit3D_epoch{epoch}\", img_fit)\n",
    "# img_fit = readImg3D(f\"E:/MyProjects/MedImageSR/results/3D results/CT/fit3D_epoch{epoch}\")"
   ],
   "metadata": {
    "collapsed": false,
    "ExecuteTime": {
     "end_time": "2024-05-21T03:15:21.228268200Z",
     "start_time": "2024-05-21T03:01:59.176757100Z"
    }
   },
   "id": "2fd0c652569da92f",
   "execution_count": 28
  },
  {
   "cell_type": "code",
   "outputs": [
    {
     "name": "stdout",
     "output_type": "stream",
     "text": [
      "\n",
      "model at epoch 200: MAE=7.376524120691872, PSNR=26.408324815292016, SSIM=0.7408892222841665\n"
     ]
    }
   ],
   "source": [
    "    # begin = 0\n",
    "# end = 128\n",
    "# MAE = criterion.mae(img_high[begin:end, :, :], img_fit[begin:end, :, :])\n",
    "# PSNR = criterion.psnr(img_high[begin:end, :, :], img_fit[begin:end, :, :])\n",
    "# SSIM = criterion.ssim(img_high[begin:end, :, :], img_fit[begin:end, :, :], multichannel=True)\n",
    "MAE = criterion.mae(img_high, img_fit)\n",
    "PSNR = criterion.psnr(img_high, img_fit)\n",
    "SSIM = criterion.ssim(img_high, img_fit, multichannel=True)\n",
    "print()\n",
    "print(f\"model at epoch {epoch}: MAE={MAE}, PSNR={PSNR}, SSIM={SSIM}\")"
   ],
   "metadata": {
    "collapsed": false,
    "ExecuteTime": {
     "end_time": "2024-05-21T03:15:47.940401800Z",
     "start_time": "2024-05-21T03:15:43.792871700Z"
    }
   },
   "id": "1fabc047a5b38070",
   "execution_count": 29
  },
  {
   "cell_type": "code",
   "outputs": [],
   "source": [],
   "metadata": {
    "collapsed": false
   },
   "id": "ebab9b1297c7c559"
  }
 ],
 "metadata": {
  "kernelspec": {
   "display_name": "Python 3",
   "language": "python",
   "name": "python3"
  },
  "language_info": {
   "codemirror_mode": {
    "name": "ipython",
    "version": 2
   },
   "file_extension": ".py",
   "mimetype": "text/x-python",
   "name": "python",
   "nbconvert_exporter": "python",
   "pygments_lexer": "ipython2",
   "version": "2.7.6"
  }
 },
 "nbformat": 4,
 "nbformat_minor": 5
}
